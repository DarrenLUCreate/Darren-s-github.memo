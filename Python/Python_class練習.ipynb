{
 "cells": [
  {
   "cell_type": "code",
   "execution_count": null,
   "metadata": {},
   "outputs": [],
   "source": [
    "class Account():\n",
    "    def __init__(self,number,name):\n", #初始時創造2個屬性
    "        self.name = name\n",
    "        self.number = number\n",
    "        self.__balance =0\n", #在內部賦予一個新的balance的值為0並給予她private的屬性
    "    def deposit(self,amount):\n",
    "        if amount<=0:\n",
    "            print(\"存入金額不得為0\")\n",
    "        else:\n",
    "            self.__balance+=amount\n",
    "            print(\"戶名為:{}帳戶為:{}存入金額:{}餘額為:{}\".format(self.name,self.number,amount,self.__balance))\n", 
    "    def withdraw(self,amount):\n",
    "        if amount >=self.__balance:\n",
    "            print(\"餘額不足\")\n",
    "        else:\n",
    "            self.__balance-=amount\n",
    "            print(\"戶名為:{}帳號為:{}取出金額:{}餘額為:{}\".format(self.name,self.number,amount,self.__balance))\n",
    " \n",
    "\n",
    "account = Account('123-456-789',\"Darren\")\n",
    "while True:\n",
    "        choice = input('{}請問要進行?1.存錢2.領錢3.離開:'.format(account.name))\n",
    "        if choice == \"1\":\n",
    "            amount = int(input(\"請問要存多少錢\"))\n",
    "            account.deposit(amount)\n",
    "        elif choice == \"2\":\n",
    "            amount = int(input(\"請問要領多少錢\"))\n",
    "            account.withdraw(amount)\n",
    "        elif choice =='3':\n",
    "            break\n",
    "        else:\n",
    "            print(\"輸入錯誤\")\n",
    "            continue\n",
    "        if input(\"{}是否離開(y=yes).format(account.name)\")==\"y\":\n",
    "            break\n",
    "            \n",
    "print(\"餘額\"+str(account.__balance))\n",
    "            "
   ]
  }
 ],
 "metadata": {
  "kernelspec": {
   "display_name": "Python 3",
   "language": "python",
   "name": "python3"
  },
  "language_info": {
   "codemirror_mode": {
    "name": "ipython",
    "version": 3
   },
   "file_extension": ".py",
   "mimetype": "text/x-python",
   "name": "python",
   "nbconvert_exporter": "python",
   "pygments_lexer": "ipython3",
   "version": "3.6.5"
  }
 },
 "nbformat": 4,
 "nbformat_minor": 2
}


