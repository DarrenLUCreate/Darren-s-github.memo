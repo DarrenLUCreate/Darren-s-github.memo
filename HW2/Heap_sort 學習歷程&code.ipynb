{
 "cells": [
  {
   "cell_type": "code",
   "execution_count": null,
   "metadata": {},
   "outputs": [],
   "source": [
    "class Solution(object):\n",
    "    def Heapify(array,i):   \n",
    "        Largest=i\n",
    "        left=2*i+1\n",
    "        right=2*i+2\n",
    "        \n",
    "        if left<len(array) and array[left]>array[i]: #二元樹裡左邊的節點大於父節點，最大值指向左邊節點的值\n",
    "            Largest=left\n",
    "            \n",
    "        if right<len(array) and array[right]>array[i]:#同理，二元樹中右邊的節點若大於父節點的話，最大值指向右邊節點的值\n",
    "            Largest=right\n",
    "            \n",
    "        if Largest!=i:\n",
    "            array[i],array[Largest]=array[Largest],array[i] # 若是比到最後父節點不是最大值，繼續向下尋找最大值\n",
    "            Heapify(array,Largest)\n",
    "    def heapsort(arr):\n",
    "        result=[]\n",
    "        Max_len=len(arr)//2-1 # i 的最大值為整個list的長度減去1\n",
    "        \n",
    "        while len(arr)>0:\n",
    "            for i in range(Max_len,-1,-1): #for迴圈(i的起始值最大，往前走訪，到i=0)\n",
    "                Heapify(arr,i)\n",
    "            sol.append(arr.pop(0)) #把比出來的最大值pop出來加到result裡\n",
    "        real = result[::-1] #反轉整個list\n",
    "                     \n",
    "        return real"
   ]
  },
  {
   "cell_type": "code",
   "execution_count": 45,
   "metadata": {},
   "outputs": [
    {
     "data": {
      "text/plain": [
       "[-1, -1, 6, 7, 54, 55]"
      ]
     },
     "execution_count": 45,
     "metadata": {},
     "output_type": "execute_result"
    }
   ],
   "source": [
    "arr = [55,54,7,-1,6,-1]\n",
    "heapsort(arr)"
   ]
  },
  {
   "cell_type": "markdown",
   "metadata": {},
   "source": [
    "學習的歷程:\n",
    "Heapsort我當初看了很久的影片，和一些網路上的大神的code模擬出來的\n",
    "\n",
    "這是我一開始寫的code:\n",
    "\n",
    "def Heapsort(arr):\n",
    "    father = 0\n",
    "    left = 2*father+1\n",
    "    right = 2*father+2\n",
    "    \n",
    "    while father < len(arr):\n",
    "        if arr[father] < arr[left]:\n",
    "            arr[father],arr[left] = arr[left],arr[father]\n",
    "            father+1\n",
    "        elif arr[father] < arr[right]:\n",
    "            arr[father],arr[right] = arr[right],arr[father]\n",
    "            father+1\n",
    "        else:\n",
    "            father+=1\n",
    "            continue\n",
    "\n",
    "Num = [12,30,56,68,10,7]\n",
    "Heapsort(Num)\n",
    "print(Num)\n",
    "[56, 7, 10, 68, 30, 12]\n",
    "\n",
    "如上圖:\n",
    "我發現到數值上的轉換有成功了，但是我的index卻沒有繼續走訪下去，持續只有heapsort一棵小的二元樹的期間很久，後來有去看到一些網路大神的code\n",
    "大神code的url:https://www.geeksforgeeks.org/heap-sort/\n",
    "heap的影片:https://www.youtube.com/watch?v=HqPJF2L5h9U\n",
    "發現我有漏做了一個地方就是沒有去尋找整個list裡的最大值\n",
    "\n",
    "之後，寫完Heapify之後，又遇到了一個問題是要怎麼把它印出來的問題，我寫的一個while迴圈裡面包了一個for迴圈，再用python的語法append和pop印出來，但我發現我的sort出來的值是由大到小排列，若是我想要把她翻轉過來的話我可以用list取值方式的[::-1]來將整個迴圈反轉，於是出現了以上的結果\n",
    "\n",
    "這次Heapsort的練習讓我思考很久，遠比寫MergeSort的時間還要長，首先我碰到的難點便是Heapify的步驟，我當初一直無法想像list是如何像一個二元樹一樣進行運作，後來有跟同學討論後，使用了index的互換寫成，光這個步驟就花了我許多時間，著實有挑戰性，讓我對演算法有近一步的認識"
   ]
  }
 ],
 "metadata": {
  "kernelspec": {
   "display_name": "Python 3",
   "language": "python",
   "name": "python3"
  },
  "language_info": {
   "codemirror_mode": {
    "name": "ipython",
    "version": 3
   },
   "file_extension": ".py",
   "mimetype": "text/x-python",
   "name": "python",
   "nbconvert_exporter": "python",
   "pygments_lexer": "ipython3",
   "version": "3.6.5"
  }
 },
 "nbformat": 4,
 "nbformat_minor": 2
}
