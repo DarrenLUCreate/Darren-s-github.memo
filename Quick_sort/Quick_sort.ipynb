{
 "cells": [
  {
   "cell_type": "code",
   "execution_count": 7,
   "metadata": {},
   "outputs": [
    {
     "name": "stdout",
     "output_type": "stream",
     "text": [
      "[11, 12, 23, 35, 55, 76, 88, 889]\n"
     ]
    }
   ],
   "source": [
    "def sol(array=[]):\n",
    "    less = [] #定義三個不同的list，小於，等於，大於\n",
    "    equal = []\n",
    "    more = []\n",
    "    \n",
    "    if len(array)<1: #當我的array裡面的值只剩下一個的時候，就回傳array，停止這個遞迴\n",
    "        return array\n",
    "    else:\n",
    "        piviot = array[0] #我設定array的第一個數值為基準點\n",
    "        for i in array: \n",
    "            if i < piviot: #當我的值小於，等於，大於基準點的時候，將數值回傳至相應的list\n",
    "                less.append(i)\n",
    "            elif i == piviot:\n",
    "                equal.append(i)\n",
    "            else:\n",
    "                more.append(i)\n",
    "                \n",
    "        less = sol(less) #將第一次分好的數值因為沒有排序好，將他重複一次這個函數\n",
    "        more = sol(more)\n",
    "        return less+equal+more \n",
    "\n",
    "a = sol([12,55,23,76,88,35,11,889])\n",
    "print(a)"
   ]
  }
 ],
 "metadata": {
  "kernelspec": {
   "display_name": "Python 3",
   "language": "python",
   "name": "python3"
  },
  "language_info": {
   "codemirror_mode": {
    "name": "ipython",
    "version": 3
   },
   "file_extension": ".py",
   "mimetype": "text/x-python",
   "name": "python",
   "nbconvert_exporter": "python",
   "pygments_lexer": "ipython3",
   "version": "3.6.5"
  }
 },
 "nbformat": 4,
 "nbformat_minor": 2
}
